{
 "cells": [
  {
   "cell_type": "code",
   "execution_count": null,
   "id": "2637ccbb-809b-44bb-90cb-7b07ca45303b",
   "metadata": {},
   "outputs": [
    {
     "name": "stderr",
     "output_type": "stream",
     "text": [
      "2024-10-19 10:58:29.285 python[54584:1516454] +[IMKClient subclass]: chose IMKClient_Legacy\n",
      "2024-10-19 10:58:29.285 python[54584:1516454] +[IMKInputSession subclass]: chose IMKInputSession_Legacy\n"
     ]
    }
   ],
   "source": [
    "import tkinter as tk\n",
    "from tkinter import ttk\n",
    "\n",
    "# Conversion functions for different units\n",
    "def length_conversion(value, from_unit, to_unit):\n",
    "    # Convert input value to centimeters first\n",
    "    if from_unit == \"Centimeters\":\n",
    "        cm_value = value\n",
    "    elif from_unit == \"Millimeters\":\n",
    "        cm_value = value / 10\n",
    "    elif from_unit == \"Inches\":\n",
    "        cm_value = value * 2.54\n",
    "    elif from_unit == \"Feet\":\n",
    "        cm_value = value * 30.48\n",
    "\n",
    "    # Now convert from centimeters to the desired output unit\n",
    "    if to_unit == \"Centimeters\":\n",
    "        return cm_value\n",
    "    elif to_unit == \"Millimeters\":\n",
    "        return cm_value * 10\n",
    "    elif to_unit == \"Inches\":\n",
    "        return cm_value / 2.54\n",
    "    elif to_unit == \"Feet\":\n",
    "        return cm_value / 30.48\n",
    "\n",
    "# Function to perform the conversion based on the selected input and output units\n",
    "def convert_length():\n",
    "    input_value = float(entry.get())\n",
    "    from_unit = from_unit_var.get()\n",
    "    to_unit = to_unit_var.get()\n",
    "    \n",
    "    result = length_conversion(input_value, from_unit, to_unit)\n",
    "    result_label.config(text=f\"Result: {result:.2f} {to_unit.lower()}\")\n",
    "\n",
    "# Creating the main window\n",
    "root = tk.Tk()\n",
    "root.title(\"Length Unit Converter\")\n",
    "\n",
    "# Creating a label and entry field for input\n",
    "tk.Label(root, text=\"Enter the length:\").grid(row=0, column=0, padx=10, pady=10)\n",
    "entry = tk.Entry(root)\n",
    "entry.grid(row=0, column=1, padx=10, pady=10)\n",
    "\n",
    "# Dropdown for input units (from)\n",
    "from_unit_var = tk.StringVar()\n",
    "from_unit_var.set(\"Centimeters\")  # Default input unit\n",
    "from_dropdown = ttk.Combobox(root, textvariable=from_unit_var)\n",
    "from_dropdown['values'] = (\"Centimeters\", \"Millimeters\", \"Inches\", \"Feet\")\n",
    "from_dropdown.grid(row=1, column=0, padx=10, pady=10)\n",
    "tk.Label(root, text=\"From\").grid(row=1, column=1)\n",
    "\n",
    "# Dropdown for output units (to)\n",
    "to_unit_var = tk.StringVar()\n",
    "to_unit_var.set(\"Millimeters\")  # Default output unit\n",
    "to_dropdown = ttk.Combobox(root, textvariable=to_unit_var)\n",
    "to_dropdown['values'] = (\"Centimeters\", \"Millimeters\", \"Inches\", \"Feet\")\n",
    "to_dropdown.grid(row=2, column=0, padx=10, pady=10)\n",
    "tk.Label(root, text=\"To\").grid(row=2, column=1)\n",
    "\n",
    "# Button to trigger the conversion\n",
    "convert_button = tk.Button(root, text=\"Convert\", command=convert_length)\n",
    "convert_button.grid(row=3, column=0, columnspan=2, padx=10, pady=10)\n",
    "\n",
    "# Label to display the result\n",
    "result_label = tk.Label(root, text=\"Result:\")\n",
    "result_label.grid(row=4, column=0, columnspan=2, padx=10, pady=10)\n",
    "\n",
    "# Running the main event loop\n",
    "root.mainloop()"
   ]
  },
  {
   "cell_type": "code",
   "execution_count": null,
   "id": "b294a0f5-e78c-4913-9bc9-5f1f717564f6",
   "metadata": {},
   "outputs": [],
   "source": []
  }
 ],
 "metadata": {
  "kernelspec": {
   "display_name": "Python 3 (ipykernel)",
   "language": "python",
   "name": "python3"
  },
  "language_info": {
   "codemirror_mode": {
    "name": "ipython",
    "version": 3
   },
   "file_extension": ".py",
   "mimetype": "text/x-python",
   "name": "python",
   "nbconvert_exporter": "python",
   "pygments_lexer": "ipython3",
   "version": "3.11.7"
  }
 },
 "nbformat": 4,
 "nbformat_minor": 5
}
